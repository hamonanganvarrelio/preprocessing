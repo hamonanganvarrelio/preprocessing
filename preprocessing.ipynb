{
  "nbformat": 4,
  "nbformat_minor": 0,
  "metadata": {
    "colab": {
      "name": "preprocessing.ipynb",
      "provenance": [],
      "collapsed_sections": []
    },
    "kernelspec": {
      "name": "python3",
      "display_name": "Python 3"
    },
    "language_info": {
      "name": "python"
    }
  },
  "cells": [
    {
      "cell_type": "code",
      "metadata": {
        "id": "aBdoqcel24nw"
      },
      "source": [
        "import numpy as np\n",
        "import matplotlib.pyplot as plt\n",
        "import pandas as pd"
      ],
      "execution_count": 2,
      "outputs": []
    },
    {
      "cell_type": "code",
      "metadata": {
        "id": "VjgQtXye3d2n"
      },
      "source": [
        "dataset = pd.read_csv('datacountry.csv')\n",
        "x = dataset.iloc[:, :-1].values\n",
        "y = dataset.iloc[:, -1].values"
      ],
      "execution_count": 3,
      "outputs": []
    },
    {
      "cell_type": "code",
      "metadata": {
        "colab": {
          "base_uri": "https://localhost:8080/"
        },
        "id": "Y3X8s4oX3qij",
        "outputId": "1601d838-5eeb-4f48-b859-b6f69fa4ec98"
      },
      "source": [
        "print(x)"
      ],
      "execution_count": 4,
      "outputs": [
        {
          "output_type": "stream",
          "text": [
            "[['Indonesia' 44.0 72000.0]\n",
            " ['Singapura' nan 23000.0]\n",
            " ['Indonesia' 30.0 54000.0]\n",
            " ['Malaysia' 38.0 61000.0]\n",
            " ['Thailand' 33.0 nan]\n",
            " ['Malaysia' 35.0 58000.0]\n",
            " ['Thailand' 34.0 52000.0]\n",
            " ['Indonesia' 48.0 80000.0]\n",
            " ['Vietnam' 50.0 83000.0]\n",
            " ['Vietnam' 55.0 34000.0]]\n"
          ],
          "name": "stdout"
        }
      ]
    },
    {
      "cell_type": "code",
      "metadata": {
        "colab": {
          "base_uri": "https://localhost:8080/"
        },
        "id": "BbMyusYy3sLP",
        "outputId": "7bea4359-2087-4dc5-ebc2-56ab6f2778fd"
      },
      "source": [
        "print(y)"
      ],
      "execution_count": 5,
      "outputs": [
        {
          "output_type": "stream",
          "text": [
            "['Yes' 'Yes' 'No' 'Yes' 'No' 'Yes' 'No' 'Yes' 'No' 'No']\n"
          ],
          "name": "stdout"
        }
      ]
    },
    {
      "cell_type": "code",
      "metadata": {
        "id": "euvOGPPU3up9"
      },
      "source": [
        "from sklearn.impute import  SimpleImputer\n",
        "imputer = SimpleImputer(missing_values=np.nan, strategy='mean')\n",
        "imputer.fit(x[:, 1:3])\n",
        "x[:, 1:3] = imputer.transform(x[:, 1:3])"
      ],
      "execution_count": 6,
      "outputs": []
    },
    {
      "cell_type": "code",
      "metadata": {
        "colab": {
          "base_uri": "https://localhost:8080/"
        },
        "id": "Qnb69piH4D9r",
        "outputId": "e578cbef-cc37-42ec-98fd-7c1787c831bf"
      },
      "source": [
        "print(x)"
      ],
      "execution_count": 7,
      "outputs": [
        {
          "output_type": "stream",
          "text": [
            "[['Indonesia' 44.0 72000.0]\n",
            " ['Singapura' 40.77777777777778 23000.0]\n",
            " ['Indonesia' 30.0 54000.0]\n",
            " ['Malaysia' 38.0 61000.0]\n",
            " ['Thailand' 33.0 57444.444444444445]\n",
            " ['Malaysia' 35.0 58000.0]\n",
            " ['Thailand' 34.0 52000.0]\n",
            " ['Indonesia' 48.0 80000.0]\n",
            " ['Vietnam' 50.0 83000.0]\n",
            " ['Vietnam' 55.0 34000.0]]\n"
          ],
          "name": "stdout"
        }
      ]
    },
    {
      "cell_type": "code",
      "metadata": {
        "id": "QfTO1Fdu4Gg5"
      },
      "source": [
        "from sklearn.compose import ColumnTransformer\n",
        "from sklearn.preprocessing import OneHotEncoder\n",
        "ct = ColumnTransformer(transformers=[('encoder', OneHotEncoder(), [0])], remainder ='passthrough')\n",
        "x = np.array(ct.fit_transform(x))"
      ],
      "execution_count": 8,
      "outputs": []
    },
    {
      "cell_type": "code",
      "metadata": {
        "colab": {
          "base_uri": "https://localhost:8080/"
        },
        "id": "FP4Zb8fr4lRd",
        "outputId": "fe982aa8-1c85-4c21-fe6b-5d9b2e26f90b"
      },
      "source": [
        "print(x)"
      ],
      "execution_count": 9,
      "outputs": [
        {
          "output_type": "stream",
          "text": [
            "[[1.0 0.0 0.0 0.0 0.0 44.0 72000.0]\n",
            " [0.0 0.0 1.0 0.0 0.0 40.77777777777778 23000.0]\n",
            " [1.0 0.0 0.0 0.0 0.0 30.0 54000.0]\n",
            " [0.0 1.0 0.0 0.0 0.0 38.0 61000.0]\n",
            " [0.0 0.0 0.0 1.0 0.0 33.0 57444.444444444445]\n",
            " [0.0 1.0 0.0 0.0 0.0 35.0 58000.0]\n",
            " [0.0 0.0 0.0 1.0 0.0 34.0 52000.0]\n",
            " [1.0 0.0 0.0 0.0 0.0 48.0 80000.0]\n",
            " [0.0 0.0 0.0 0.0 1.0 50.0 83000.0]\n",
            " [0.0 0.0 0.0 0.0 1.0 55.0 34000.0]]\n"
          ],
          "name": "stdout"
        }
      ]
    },
    {
      "cell_type": "code",
      "metadata": {
        "id": "8Dhs8w614sSU"
      },
      "source": [
        "from sklearn.preprocessing import LabelEncoder\n",
        "le = LabelEncoder()\n",
        "y = le.fit_transform(y)"
      ],
      "execution_count": 10,
      "outputs": []
    },
    {
      "cell_type": "code",
      "metadata": {
        "colab": {
          "base_uri": "https://localhost:8080/"
        },
        "id": "FFCG1MJ843so",
        "outputId": "53935d3e-845d-4c9c-910a-8a5d2468f87c"
      },
      "source": [
        "print(y)"
      ],
      "execution_count": 11,
      "outputs": [
        {
          "output_type": "stream",
          "text": [
            "[1 1 0 1 0 1 0 1 0 0]\n"
          ],
          "name": "stdout"
        }
      ]
    },
    {
      "cell_type": "code",
      "metadata": {
        "id": "kBM3TCAr46d4"
      },
      "source": [
        "from sklearn.model_selection import train_test_split\n",
        "x_train, x_test, y_train, y_test = train_test_split(x, y, test_size = 0.2, random_state = 1)"
      ],
      "execution_count": 12,
      "outputs": []
    },
    {
      "cell_type": "code",
      "metadata": {
        "colab": {
          "base_uri": "https://localhost:8080/"
        },
        "id": "v8LduSwE48Bk",
        "outputId": "1db281c6-b542-4ac3-923a-c5177df4b7d9"
      },
      "source": [
        "print(x_train)"
      ],
      "execution_count": 13,
      "outputs": [
        {
          "output_type": "stream",
          "text": [
            "[[0.0 0.0 0.0 1.0 0.0 34.0 52000.0]\n",
            " [0.0 0.0 0.0 1.0 0.0 33.0 57444.444444444445]\n",
            " [1.0 0.0 0.0 0.0 0.0 44.0 72000.0]\n",
            " [0.0 1.0 0.0 0.0 0.0 38.0 61000.0]\n",
            " [0.0 0.0 1.0 0.0 0.0 40.77777777777778 23000.0]\n",
            " [1.0 0.0 0.0 0.0 0.0 48.0 80000.0]\n",
            " [0.0 0.0 0.0 0.0 1.0 50.0 83000.0]\n",
            " [0.0 1.0 0.0 0.0 0.0 35.0 58000.0]]\n"
          ],
          "name": "stdout"
        }
      ]
    },
    {
      "cell_type": "code",
      "metadata": {
        "colab": {
          "base_uri": "https://localhost:8080/"
        },
        "id": "zSz8vnRt4_7E",
        "outputId": "4fe71841-2713-4683-fb20-14bcf4389a92"
      },
      "source": [
        "print(x_test)"
      ],
      "execution_count": 14,
      "outputs": [
        {
          "output_type": "stream",
          "text": [
            "[[1.0 0.0 0.0 0.0 0.0 30.0 54000.0]\n",
            " [0.0 0.0 0.0 0.0 1.0 55.0 34000.0]]\n"
          ],
          "name": "stdout"
        }
      ]
    },
    {
      "cell_type": "code",
      "metadata": {
        "colab": {
          "base_uri": "https://localhost:8080/"
        },
        "id": "MDKihN8Z5DN9",
        "outputId": "5603b5da-6910-4c7e-825e-235a6b612675"
      },
      "source": [
        "print(y_train)"
      ],
      "execution_count": 15,
      "outputs": [
        {
          "output_type": "stream",
          "text": [
            "[0 0 1 1 1 1 0 1]\n"
          ],
          "name": "stdout"
        }
      ]
    },
    {
      "cell_type": "code",
      "metadata": {
        "colab": {
          "base_uri": "https://localhost:8080/"
        },
        "id": "MC6A21w_5ErK",
        "outputId": "36a534c7-50db-4119-f726-c667779856b8"
      },
      "source": [
        "print(y_test)"
      ],
      "execution_count": 16,
      "outputs": [
        {
          "output_type": "stream",
          "text": [
            "[0 0]\n"
          ],
          "name": "stdout"
        }
      ]
    },
    {
      "cell_type": "code",
      "metadata": {
        "id": "_81g5tI65GHg"
      },
      "source": [
        "from sklearn.preprocessing import StandardScaler\n",
        "sc = StandardScaler()\n",
        "x_train[: ,3:] = sc.fit_transform(x_train[:, 3:])\n",
        "x_test[:, 3:] = sc.transform(x_test[:, 3:])"
      ],
      "execution_count": 17,
      "outputs": []
    },
    {
      "cell_type": "code",
      "metadata": {
        "colab": {
          "base_uri": "https://localhost:8080/"
        },
        "id": "fmalU66v5ICi",
        "outputId": "9c1e3bd0-f2ce-4658-ef59-b765404ec8c2"
      },
      "source": [
        "print(x_train)"
      ],
      "execution_count": 18,
      "outputs": [
        {
          "output_type": "stream",
          "text": [
            "[[0.0 0.0 0.0 1.7320508075688774 -0.3779644730092272 -1.0476609822388963\n",
            "  -0.49689267104812773]\n",
            " [0.0 0.0 0.0 1.7320508075688774 -0.3779644730092272 -1.2127191676244553\n",
            "  -0.18966565677231367]\n",
            " [1.0 0.0 0.0 -0.5773502691896258 -0.3779644730092272 0.6029208716166954\n",
            "  0.6316963609854748]\n",
            " [0.0 1.0 0.0 -0.5773502691896258 -0.3779644730092272 -0.3874282406966596\n",
            "  0.010972393366993403]\n",
            " [0.0 0.0 1.0 -0.5773502691896258 -0.3779644730092272 0.07106671870767156\n",
            "  -2.1333467674968514]\n",
            " [1.0 0.0 0.0 -0.5773502691896258 -0.3779644730092272 1.263153613158932\n",
            "  1.0831319737989158]\n",
            " [0.0 0.0 0.0 -0.5773502691896258 2.6457513110645903 1.5932699839300504\n",
            "  1.2524203286039561]\n",
            " [0.0 1.0 0.0 -0.5773502691896258 -0.3779644730092272 -0.8826027968533371\n",
            "  -0.15831596143804696]]\n"
          ],
          "name": "stdout"
        }
      ]
    },
    {
      "cell_type": "code",
      "metadata": {
        "colab": {
          "base_uri": "https://localhost:8080/"
        },
        "id": "6g2wYtt95JkV",
        "outputId": "73364bfb-90cc-44a5-d5c7-a0160027ab41"
      },
      "source": [
        "print(x_test)"
      ],
      "execution_count": 19,
      "outputs": [
        {
          "output_type": "stream",
          "text": [
            "[[1.0 0.0 0.0 -0.5773502691896258 -0.3779644730092272 -1.707893723781133\n",
            "  -0.38403376784476745]\n",
            " [0.0 0.0 0.0 -0.5773502691896258 2.6457513110645903 2.4185609108578463\n",
            "  -1.51262279987837]]\n"
          ],
          "name": "stdout"
        }
      ]
    }
  ]
}